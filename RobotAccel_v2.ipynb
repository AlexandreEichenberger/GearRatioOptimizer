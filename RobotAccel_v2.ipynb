{
 "cells": [
  {
   "cell_type": "code",
   "execution_count": 52,
   "metadata": {},
   "outputs": [],
   "source": [
    "import numpy as np\n",
    "import math\n",
    "import matplotlib.pyplot as plt\n",
    "from itertools import cycle\n",
    "from sympy import *\n",
    "from scipy.optimize import fsolve\n",
    "from scipy.special import lambertw"
   ]
  },
  {
   "cell_type": "code",
   "execution_count": 53,
   "metadata": {},
   "outputs": [],
   "source": [
    "Ts = 4.2 / 40 # Stall Torque (bare motor) (Nm)\n",
    "Is = 8.5      # Stall current (A)\n",
    "If = 0.2      # No Load Current (A)\n",
    "nf = 150 * 40 # Free Speed (RPM)\n",
    "Vn = 12       # Nominal Voltage (V)\n",
    "rb = 0.1      # Internal Battery Resistance (Ohms)\n",
    "Ie = 0        # External Current Draw (A)\n",
    "\n",
    "rw = 0.051    # Wheel Radius (m)\n",
    "m  = 13       # Robot Mass (Kg)\n",
    "Iw = 0.000    # Rotational Inertia of wheel (kg m^2)\n",
    "E  = 0.7      # Efficiency of wheels (Mecanum = 0.7, tank = 1)\n",
    "\n",
    "xfs = np.array([1.5, 2, 3, 0.4]) # Target Distance (m)\n",
    "\n",
    "\n",
    "# Gear Reductions\n",
    "reductionMin = 5\n",
    "reductionMax = 150\n",
    "reductionDelta = 0.1"
   ]
  },
  {
   "cell_type": "code",
   "execution_count": 54,
   "metadata": {},
   "outputs": [],
   "source": [
    "c3 = (Ts*Vn - Ts*Ie*rb)/(Vn) - (Ts*rb*Is*(Vn-Ie*rb))/(Vn*(Vn + rb*Is))\n",
    "c4 = (Ts*Is*rb)/(nf*Vn + nf*Is*rb) - (Ts)/(nf)"
   ]
  },
  {
   "cell_type": "code",
   "execution_count": 55,
   "metadata": {},
   "outputs": [],
   "source": [
    "def timeForDist (x, g):\n",
    "    c1 = (E*rw*g*c3) / (rw**2 * m + Iw*E)\n",
    "    c2 = (E*rw*g*c4*30) / (math.pi*rw*(rw**2 * m + Iw*E))\n",
    "    \n",
    "    time = -(LambertW(-exp(-(x*c2**2)/(c1) - 1)) + 1)/(c2) - (x*c2)/(c1)\n",
    "    return time"
   ]
  },
  {
   "cell_type": "code",
   "execution_count": null,
   "metadata": {},
   "outputs": [],
   "source": []
  },
  {
   "cell_type": "code",
   "execution_count": 56,
   "metadata": {
    "scrolled": true
   },
   "outputs": [
    {
     "data": {
      "image/png": "[encoded data removed]",
      "text/plain": [
       "<matplotlib.figure.Figure at 0x7ff5712e6b38>"
      ]
     },
     "metadata": {},
     "output_type": "display_data"
    }
   ],
   "source": [
    "# Fill my array\n",
    "\n",
    "ratioTests = np.arange(reductionMin, reductionMax, reductionDelta, dtype = np.float64)\n",
    "data = np.zeros((xfs.size, ratioTests.size))\n",
    "\n",
    "minimums = np.zeros((2, xfs.size))\n",
    "\n",
    "i2 = 0\n",
    "j2 = 0\n",
    "tempMin = 0\n",
    "tempRatio = 0\n",
    "\n",
    "for x in xfs:\n",
    "    j2 = 0\n",
    "    tempMin = 0;\n",
    "    for curRatio in ratioTests:\n",
    "        # Find new time\n",
    "        tempTime = timeForDist(x, curRatio)\n",
    "        data[i2, j2] = tempTime\n",
    "        \n",
    "        # Check for min\n",
    "        if tempTime < tempMin or tempMin == 0:\n",
    "            tempMin = tempTime\n",
    "            tempRatio = curRatio\n",
    "        \n",
    "        j2 += 1\n",
    "    \n",
    "    minimums[0, i2] = tempRatio\n",
    "    minimums[1, i2] = tempMin\n",
    "    i2 += 1\n",
    "\n",
    "# Make the Graphs!\n",
    "\n",
    "colors = cycle([\"aqua\", \"black\", \"blue\", \"fuchsia\", \"gray\", \"green\", \"lime\", \"maroon\", \"navy\", \"olive\", \"purple\", \"red\", \"silver\", \"teal\", \"yellow\"])\n",
    "\n",
    "fig = plt.figure()\n",
    "ax = fig.add_subplot(111)\n",
    "\n",
    "for i in range (0, xfs.size):\n",
    "    ax.plot(ratioTests, data[i], label=str(xfs[i]) + \" m, Min: \" + str(round(minimums[0, i], 3)), color=next(colors))\n",
    "    \n",
    "ax.plot(minimums[0], minimums[1], \"ko\")\n",
    "    \n",
    "    \n",
    "ax.set_xlabel(\"Gear Reduction\", fontsize=15)\n",
    "ax.set_ylabel(\"Time\", fontsize=18)\n",
    "\n",
    "ax.legend(loc=\"best\")\n",
    "\n",
    "ax.margins(0.1)\n",
    "fig.tight_layout()\n",
    "\n",
    "plt.show()\n"
   ]
  },
  {
   "cell_type": "code",
   "execution_count": null,
   "metadata": {},
   "outputs": [],
   "source": []
  },
  {
   "cell_type": "code",
   "execution_count": 78,
   "metadata": {},
   "outputs": [],
   "source": [
    "def current(n):\n",
    "    return (Is*Vn - Is*Ie*rb)/(Vn**2 + rb*Is*Vn) - (Is*Vn)/(nf*Vn+nf*Is*rb) * n"
   ]
  },
  {
   "cell_type": "code",
   "execution_count": 79,
   "metadata": {},
   "outputs": [
    {
     "data": {
      "text/plain": [
       "0.66147859922179"
      ]
     },
     "execution_count": 79,
     "metadata": {},
     "output_type": "execute_result"
    }
   ],
   "source": [
    "current(150*0)"
   ]
  },
  {
   "cell_type": "code",
   "execution_count": null,
   "metadata": {},
   "outputs": [],
   "source": []
  }
 ],
 "metadata": {
  "kernelspec": {
   "display_name": "Python 3",
   "language": "python",
   "name": "python3"
  },
  "language_info": {
   "codemirror_mode": {
    "name": "ipython",
    "version": 3
   },
   "file_extension": ".py",
   "mimetype": "text/x-python",
   "name": "python",
   "nbconvert_exporter": "python",
   "pygments_lexer": "ipython3",
   "version": "3.6.5"
  }
 },
 "nbformat": 4,
 "nbformat_minor": 2
}
