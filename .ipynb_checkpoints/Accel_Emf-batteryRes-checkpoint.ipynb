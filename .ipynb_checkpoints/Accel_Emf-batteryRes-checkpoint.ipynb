{
 "cells": [
  {
   "cell_type": "code",
   "execution_count": 2,
   "metadata": {},
   "outputs": [],
   "source": [
    "import numpy as np\n",
    "import math\n",
    "import matplotlib.pyplot as plt\n",
    "import sympy\n",
    "from scipy.interpolate import spline, splrep, BSpline\n",
    "\n",
    "import operator\n",
    "from itertools import cycle\n",
    "\n",
    "from IPython.display import display, clear_output\n",
    "\n",
    "from sympy import *\n",
    "init_printing()"
   ]
  },
  {
   "cell_type": "code",
   "execution_count": 3,
   "metadata": {},
   "outputs": [],
   "source": [
    "#Symbols\n",
    "km, ke = symbols('k_m k_e', constant=True, real=True, ) # Proportionality Constants (torque & emf)\n",
    "Vo, Ve, Tm, Tf = symbols('V_o V_e T_m T_f', constant=True, real=True) # Supplied Voltage, Emf voltage, Motor Torque, Frictional Torque\n",
    "I, rm, rb = symbols('I r_m r_b', constant=True, real=True) # Current, motor resistance, battery resistance\n",
    "w = symbols('w', constant=True, real=True) # (omega) motor rotational speed"
   ]
  },
  {
   "cell_type": "code",
   "execution_count": 4,
   "metadata": {},
   "outputs": [
    {
     "data": {
      "image/png": "[encoded data removed]",
      "text/latex": [
       "$$- T_{f} + \\frac{k_{m} \\left(V_{o} - k_{e} w\\right)}{r_{b} + r_{m}}$$"
      ],
      "text/plain": [
       "       kₘ⋅(Vₒ - kₑ⋅w)\n",
       "-T_f + ──────────────\n",
       "          r_b + rₘ   "
      ]
     },
     "execution_count": 4,
     "metadata": {},
     "output_type": "execute_result"
    }
   ],
   "source": [
    "TorqueDef = km * (Vo - w*ke)/(rm + rb) - Tf\n",
    "TorqueDef"
   ]
  },
  {
   "cell_type": "code",
   "execution_count": 5,
   "metadata": {},
   "outputs": [],
   "source": [
    "#More symbols\n",
    "Tnet, rw, E= symbols('T_net r_w, E', constant=True, real=True) # net torque, wheel radius, Wheel efficiency\n",
    "Iw, m = symbols('I_w m', constant=True, real=True) # Wheel inertia, robot mass\n",
    "g = symbols('g', constant=True, real=True) # Gear ratio"
   ]
  },
  {
   "cell_type": "code",
   "execution_count": 6,
   "metadata": {},
   "outputs": [
    {
     "data": {
      "image/png": "[encoded data removed]",
      "text/latex": [
       "$$\\frac{T_{net}}{\\frac{I_{w}}{r_{w}} + \\frac{m r_{w}}{E}}$$"
      ],
      "text/plain": [
       "    Tₙₑₜ   \n",
       "───────────\n",
       "I_w   m⋅r_w\n",
       "─── + ─────\n",
       "r_w     E  "
      ]
     },
     "execution_count": 6,
     "metadata": {},
     "output_type": "execute_result"
    }
   ],
   "source": [
    "acelDef = Tnet / (rw*m/E + Iw/rw)\n",
    "acelDef"
   ]
  },
  {
   "cell_type": "code",
   "execution_count": 7,
   "metadata": {
    "scrolled": true
   },
   "outputs": [
    {
     "data": {
      "image/png": "[encoded data removed]",
      "text/latex": [
       "$$- \\frac{E g r_{w} \\left(T_{f} \\left(r_{b} + r_{m}\\right) - k_{m} \\left(V_{o} - k_{e} w\\right)\\right)}{\\left(r_{b} + r_{m}\\right) \\left(E I_{w} + m r_{w}^{2}\\right)}$$"
      ],
      "text/plain": [
       "-E⋅g⋅r_w⋅(T_f⋅(r_b + rₘ) - kₘ⋅(Vₒ - kₑ⋅w)) \n",
       "───────────────────────────────────────────\n",
       "                   ⎛             2⎞        \n",
       "        (r_b + rₘ)⋅⎝E⋅I_w + m⋅r_w ⎠        "
      ]
     },
     "execution_count": 7,
     "metadata": {},
     "output_type": "execute_result"
    }
   ],
   "source": [
    "workingAcel = simplify(acelDef.subs(Tnet, TorqueDef * g))\n",
    "workingAcel"
   ]
  },
  {
   "cell_type": "code",
   "execution_count": 8,
   "metadata": {},
   "outputs": [
    {
     "data": {
      "image/png": "[encoded data removed]",
      "text/latex": [
       "$$\\frac{60 g v}{\\pi r_{w}}$$"
      ],
      "text/plain": [
       "60⋅g⋅v\n",
       "──────\n",
       "π⋅r_w "
      ]
     },
     "execution_count": 8,
     "metadata": {},
     "output_type": "execute_result"
    }
   ],
   "source": [
    "# More Symbols\n",
    "v = symbols('v', constant=True, real=True) # Robot velocity\n",
    "wDef = v/(sympy.pi*rw )* 60 * g\n",
    "vDef = solve(Eq(wDef, w), v)\n",
    "wDef"
   ]
  },
  {
   "cell_type": "code",
   "execution_count": 9,
   "metadata": {},
   "outputs": [
    {
     "data": {
      "image/png": "[encoded data removed]",
      "text/latex": [
       "$$- \\frac{E g r_{w} \\left(T_{f} \\left(r_{b} + r_{m}\\right) - k_{m} \\left(V_{o} - \\frac{60 g k_{e} v}{\\pi r_{w}}\\right)\\right)}{\\left(r_{b} + r_{m}\\right) \\left(E I_{w} + m r_{w}^{2}\\right)}$$"
      ],
      "text/plain": [
       "         ⎛                    ⎛     60⋅g⋅kₑ⋅v⎞⎞ \n",
       "-E⋅g⋅r_w⋅⎜T_f⋅(r_b + rₘ) - kₘ⋅⎜Vₒ - ─────────⎟⎟ \n",
       "         ⎝                    ⎝       π⋅r_w  ⎠⎠ \n",
       "────────────────────────────────────────────────\n",
       "                     ⎛             2⎞           \n",
       "          (r_b + rₘ)⋅⎝E⋅I_w + m⋅r_w ⎠           "
      ]
     },
     "execution_count": 9,
     "metadata": {},
     "output_type": "execute_result"
    }
   ],
   "source": [
    "workingAcel2 = workingAcel.subs(w, wDef)\n",
    "workingAcel2"
   ]
  },
  {
   "cell_type": "code",
   "execution_count": 10,
   "metadata": {
    "scrolled": false
   },
   "outputs": [
    {
     "data": {
      "image/png": "[encoded data removed]",
      "text/latex": [
       "$$- \\frac{E g r_{w}}{\\left(r_{b} + \\frac{V_{m}}{I_{s} nm}\\right) \\left(E I_{w} + m r_{w}^{2}\\right)} \\left(\\frac{I_{o} T_{s}}{I_{s}} nm \\left(r_{b} + \\frac{V_{m}}{I_{s} nm}\\right) - \\frac{T_{s}}{I_{s}} \\left(- \\frac{60 V_{m} g v}{\\pi r_{w} w_{o}} + V_{o}\\right)\\right)$$"
      ],
      "text/plain": [
       "         ⎛         ⎛        Vₘ ⎞      ⎛  60⋅Vₘ⋅g⋅v     ⎞⎞ \n",
       "         ⎜Iₒ⋅Tₛ⋅nm⋅⎜r_b + ─────⎟   Tₛ⋅⎜- ───────── + Vₒ⎟⎟ \n",
       "         ⎜         ⎝      Iₛ⋅nm⎠      ⎝   π⋅r_w⋅wₒ     ⎠⎟ \n",
       "-E⋅g⋅r_w⋅⎜────────────────────── - ─────────────────────⎟ \n",
       "         ⎝          Iₛ                       Iₛ         ⎠ \n",
       "──────────────────────────────────────────────────────────\n",
       "              ⎛        Vₘ ⎞ ⎛             2⎞              \n",
       "              ⎜r_b + ─────⎟⋅⎝E⋅I_w + m⋅r_w ⎠              \n",
       "              ⎝      Iₛ⋅nm⎠                               "
      ]
     },
     "execution_count": 10,
     "metadata": {},
     "output_type": "execute_result"
    }
   ],
   "source": [
    "Ts, Is, Io, wo, nm, Vm = symbols('T_s I_s I_o w_o nm V_m', constant=True, real=True) # Stall Torque, Stall Current, Free current, number of motors, nominal voltage\n",
    "KmDef = Ts / Is\n",
    "KeDef = Vm / wo\n",
    "RmDef = Vm / (Is * nm)\n",
    "TfDef = Ts * Io * nm / Is\n",
    "workingAcel3 = workingAcel2.subs([(km, KmDef), (ke, KeDef), (rm, RmDef), (Tf, TfDef)])\n",
    "workingAcel3"
   ]
  },
  {
   "cell_type": "markdown",
   "metadata": {},
   "source": [
    "# Substituting Constants"
   ]
  },
  {
   "cell_type": "code",
   "execution_count": 11,
   "metadata": {},
   "outputs": [],
   "source": [
    "# Motor Specs\n",
    "stall_torque = 4.2 / 40 # Stall torque (Nm)\n",
    "motor_num = 6 # Number of motors\n",
    "stall_current = 8.5 # Stall current (amps)\n",
    "no_load_current = 0.2 # No load current (amps)\n",
    "nominal_voltage = 12 #Nominal voltage (volts)\n",
    "free_speed = 150 * 40 # Free motor speed (rpm)\n",
    "\n",
    "# Robot Specs\n",
    "mass = 0.453592 * 30 # Robot mass (kg)\n",
    "radius = .102 # Wheel diameter (m)\n",
    "inertia = 0.005 # Wheel inertia (Kg m^2)\n",
    "wheel_efficiency = 0.7 # Wheel efficiency (Mecanum = 0.7, tank = 1)\n",
    "\n",
    "# Battery Specs\n",
    "batery_resistance = 0.1 # Battery Resistance (ohms)\n",
    "operating_voltage = 12.7 # Operating battery voltage (volts)"
   ]
  },
  {
   "cell_type": "code",
   "execution_count": 12,
   "metadata": {},
   "outputs": [],
   "source": [
    "subListNoMass = [(Ts, stall_torque), (nm, motor_num), (Is, stall_current), (Io, no_load_current), \n",
    "                 (Vm, nominal_voltage), (wo, free_speed), (rw, radius), (rb, batery_resistance), \n",
    "                 (E, wheel_efficiency), (Vo, operating_voltage), (Iw, inertia)]\n",
    "subList = [(Ts, stall_torque), (nm, motor_num), (Is, stall_current), (Io, no_load_current), \n",
    "                 (Vm, nominal_voltage), (wo, free_speed), (rw, radius), (rb, batery_resistance), \n",
    "                 (E, wheel_efficiency), (Vo, operating_voltage), (Iw, inertia), (m, mass)]\n",
    "acelExp = workingAcel3.subs(subList)\n",
    "\n",
    "acelMassExp = workingAcel3.subs(subListNoMass)\n",
    "\n",
    "if wheel_efficiency == 1:\n",
    "    wheelType = 'Tank Drive'\n",
    "elif wheel_efficiency == 0.7:\n",
    "    wheelType = 'Mecanum Drive'\n",
    "else:\n",
    "    wheelType = '' + 100 * wheel_efficiency + '% efficiency'"
   ]
  },
  {
   "cell_type": "markdown",
   "metadata": {},
   "source": [
    "# Integration iteration below"
   ]
  },
  {
   "cell_type": "code",
   "execution_count": 13,
   "metadata": {},
   "outputs": [
    {
     "name": "stdout",
     "output_type": "stream",
     "text": [
      "-0.0213319590655696*g**2*v/pi + 0.222982968112399*g\n",
      "FVAL: 0.222982968112399*g\n",
      "SVAL: -0.0213319590655696*g**2*v/pi\n"
     ]
    }
   ],
   "source": [
    "print(acelExp.expand())\n",
    "\n",
    "FCOMP, SCOMP = acelExp.expand().args\n",
    "FVAL = float(FCOMP.subs(g, 1))\n",
    "SVAL = float(SCOMP.subs([(g, 1), (v, 1)]))\n",
    "print('FVAL:', FCOMP)\n",
    "print('SVAL:', SCOMP)"
   ]
  },
  {
   "cell_type": "code",
   "execution_count": 14,
   "metadata": {},
   "outputs": [],
   "source": [
    "def aceleration(vel, gratio):\n",
    "    return FVAL*gratio + SVAL *gratio*gratio*vel\n",
    "\n",
    "def timeAtRatio(targetDist, ratio):\n",
    "    assert(not ratio == 0)\n",
    "    t_acum = 0\n",
    "    x_acum = 0\n",
    "    v_acum = 0\n",
    "    dt= 0.0001\n",
    "    while x_acum < targetDist:\n",
    "        a = aceleration(v_acum, ratio)\n",
    "        v_acum += a*dt\n",
    "        x_acum += v_acum*dt\n",
    "        t_acum += dt\n",
    "    return t_acum\n",
    "\n",
    "def optimalRatio(dist):\n",
    "    ratio = np.arange(1, 40, 0.01)\n",
    "    time = [timeAtRatio(dist, r) for r in ratio]\n",
    "    ind, t = min(enumerate(time), key=operator.itemgetter(1))\n",
    "    return ratio[ind], t"
   ]
  },
  {
   "cell_type": "code",
   "execution_count": 15,
   "metadata": {
    "scrolled": false
   },
   "outputs": [
    {
     "data": {
      "image/png": "[encoded data removed]",
      "text/plain": [
       "<Figure size 432x288 with 1 Axes>"
      ]
     },
     "metadata": {},
     "output_type": "display_data"
    }
   ],
   "source": [
    "minRatio = 2\n",
    "maxRatio = 40\n",
    "targetDist = [0.8, 1, 1.5, 2.5] # meters\n",
    "\n",
    "\n",
    "colors = cycle([\"black\", \"blue\", \"grey\", \"silver\", \"lime\", \"green\", \"olive\"])\n",
    "fig = plt.figure()\n",
    "ax = fig.add_subplot(111)\n",
    "\n",
    "ratios = np.arange(minRatio, maxRatio, .1)\n",
    "\n",
    "for dist in targetDist:\n",
    "    time = [timeAtRatio(dist, x) for x in ratios]\n",
    "        \n",
    "    index, minTime = min(enumerate(time), key=operator.itemgetter(1))\n",
    "    minRatio = ratios[index]\n",
    "    color = next(colors)\n",
    "    \n",
    "    label = '%.1fm, Min: %.1f (%.3fs)' %(dist, minRatio, minTime)\n",
    "    ax.plot(ratios, time, label=label, color=color)\n",
    "    ax.plot(minRatio, minTime, '-o', color=color)\n",
    "        \n",
    "clear_output()\n",
    "    \n",
    "ax.set_xlabel(\"Gear Reduction\", fontsize=15)\n",
    "ax.set_ylabel(\"Time\", fontsize=18)\n",
    "ax.legend(loc=\"best\")\n",
    "ax.set_title('%s  |  Mass = %.1f lbs' %(wheelType, mass*2.20462), fontsize=13)\n",
    "ax.margins(0.1)\n",
    "fig.tight_layout()\n",
    "plt.show()"
   ]
  },
  {
   "cell_type": "markdown",
   "metadata": {},
   "source": [
    "# 3D Graph"
   ]
  },
  {
   "cell_type": "code",
   "execution_count": null,
   "metadata": {
    "scrolled": true
   },
   "outputs": [],
   "source": [
    "ratio = np.linspace(1, 40, 100)\n",
    "dist = np.linspace(0.5, 4, 100)\n",
    "\n",
    "X, Y = np.meshgrid(dist, ratio)\n",
    "\n",
    "time = []\n",
    "for x, y in zip(np.ravel(X), np.ravel(Y)):\n",
    "    val = timeAtRatio(x, y)\n",
    "    time.append(val)\n",
    "    print('(%.2f, %.2f): %.3f' %(x, y, val))\n",
    "    \n",
    "nptime = np.array(time)\n",
    "#time = np.array([timeAtRatio(x,y) for x,y in zip(np.ravel(X), np.ravel(Y))])\n",
    "\n",
    "Z = time.reshape(X.shape)"
   ]
  },
  {
   "cell_type": "code",
   "execution_count": 50,
   "metadata": {},
   "outputs": [],
   "source": [
    "Z = nptime.reshape(X.shape)"
   ]
  },
  {
   "cell_type": "code",
   "execution_count": 64,
   "metadata": {},
   "outputs": [
    {
     "data": {
      "image/png": "[encoded data removed]",
      "text/plain": [
       "<Figure size 432x288 with 1 Axes>"
      ]
     },
     "metadata": {},
     "output_type": "display_data"
    }
   ],
   "source": [
    "minimums = [[], [], []]\n",
    "for i in np.arange(0, 100, 1):\n",
    "    index, minTime = min(enumerate(time[i::100]), key=operator.itemgetter(1))\n",
    "    minimums[0].append(dist[i])\n",
    "    minimums[1].append(ratio[index])\n",
    "    minimums[2].append(minTime)\n",
    "    \n",
    "plt.plot(minimums[0], minimums[1])\n",
    "plt.show()"
   ]
  },
  {
   "cell_type": "code",
   "execution_count": 1,
   "metadata": {},
   "outputs": [
    {
     "ename": "NameError",
     "evalue": "name 'plt' is not defined",
     "output_type": "error",
     "traceback": [
      "\u001b[0;31m---------------------------------------------------------------------------\u001b[0m",
      "\u001b[0;31mNameError\u001b[0m                                 Traceback (most recent call last)",
      "\u001b[0;32m<ipython-input-1-c7e0ca000704>\u001b[0m in \u001b[0;36m<module>\u001b[0;34m()\u001b[0m\n\u001b[1;32m      2\u001b[0m \u001b[0;32mfrom\u001b[0m \u001b[0mmatplotlib\u001b[0m \u001b[0;32mimport\u001b[0m \u001b[0mcm\u001b[0m\u001b[0;34m\u001b[0m\u001b[0m\n\u001b[1;32m      3\u001b[0m \u001b[0;34m\u001b[0m\u001b[0m\n\u001b[0;32m----> 4\u001b[0;31m \u001b[0mfig\u001b[0m \u001b[0;34m=\u001b[0m \u001b[0mplt\u001b[0m\u001b[0;34m.\u001b[0m\u001b[0mfigure\u001b[0m\u001b[0;34m(\u001b[0m\u001b[0;34m)\u001b[0m\u001b[0;34m\u001b[0m\u001b[0m\n\u001b[0m\u001b[1;32m      5\u001b[0m \u001b[0max\u001b[0m \u001b[0;34m=\u001b[0m \u001b[0mfig\u001b[0m\u001b[0;34m.\u001b[0m\u001b[0madd_subplot\u001b[0m\u001b[0;34m(\u001b[0m\u001b[0;36m111\u001b[0m\u001b[0;34m,\u001b[0m \u001b[0mprojection\u001b[0m\u001b[0;34m=\u001b[0m\u001b[0;34m'3d'\u001b[0m\u001b[0;34m)\u001b[0m\u001b[0;34m\u001b[0m\u001b[0m\n\u001b[1;32m      6\u001b[0m \u001b[0;34m\u001b[0m\u001b[0m\n",
      "\u001b[0;31mNameError\u001b[0m: name 'plt' is not defined"
     ]
    }
   ],
   "source": [
    "from mpl_toolkits.mplot3d import axes3d\n",
    "from matplotlib import cm\n",
    "\n",
    "fig = plt.figure()\n",
    "ax = fig.add_subplot(111, projection='3d')\n",
    "\n",
    "ax.plot_surface(Y, X, Z, cmap=cm.Blues_r, cstride=10, rstride=2)\n",
    "ax.plot_wireframe(Y, X, Z, antialiased=True, ccount=10, rcount=0, color='navy')\n",
    "ax.plot(minimums[1], minimums[0], minimums[2], color='black', linestyle='solid', linewidth=5)\n",
    "\n",
    "ax.set_ylabel('Distance (m)', fontsize=12)\n",
    "ax.set_xlabel('Gear Ratio', fontsize=12)\n",
    "ax.set_zlabel('Time (sec)', fontsize=12)\n",
    "ax.set_title('%s  |  Mass = %.1f lbs' %(wheelType, mass*2.20462), fontsize=15)\n",
    "plt.yticks(np.arange(1, 5, 1))\n",
    "\n",
    "filename = '3d_graphs/%s - m=%.1f lbs, nm=%f.png' %(wheelType, mass*2.20462, motor_num)\n",
    "plt.savefig(filename, format='png')\n",
    "plt.show()\n"
   ]
  },
  {
   "cell_type": "markdown",
   "metadata": {},
   "source": [
    "# Acceleration With Mass"
   ]
  },
  {
   "cell_type": "code",
   "execution_count": 320,
   "metadata": {},
   "outputs": [
    {
     "data": {
      "image/png": "[encoded data removed]",
      "text/latex": [
       "$$- \\frac{0.157636363636364 g \\left(0.00489580430479913 g v - 0.152406228373702\\right)}{0.010404 m + 0.0035}$$"
      ],
      "text/plain": [
       "-0.157636363636364⋅g⋅(0.00489580430479913⋅g⋅v - 0.152406228373702) \n",
       "───────────────────────────────────────────────────────────────────\n",
       "                        0.010404⋅m + 0.0035                        "
      ]
     },
     "execution_count": 320,
     "metadata": {},
     "output_type": "execute_result"
    }
   ],
   "source": [
    "acelMassExp"
   ]
  },
  {
   "cell_type": "code",
   "execution_count": null,
   "metadata": {},
   "outputs": [],
   "source": [
    "dist = 1.5 # meters\n",
    "\n",
    "def acelMass(targetDist, ratio, mass):\n",
    "    "
   ]
  }
 ],
 "metadata": {
  "kernelspec": {
   "display_name": "Python 3",
   "language": "python",
   "name": "python3"
  },
  "language_info": {
   "codemirror_mode": {
    "name": "ipython",
    "version": 3
   },
   "file_extension": ".py",
   "mimetype": "text/x-python",
   "name": "python",
   "nbconvert_exporter": "python",
   "pygments_lexer": "ipython3",
   "version": "3.6.5"
  }
 },
 "nbformat": 4,
 "nbformat_minor": 2
}
