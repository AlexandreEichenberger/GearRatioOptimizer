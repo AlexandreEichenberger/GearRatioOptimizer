{
 "cells": [
  {
   "cell_type": "code",
   "execution_count": 2,
   "metadata": {},
   "outputs": [],
   "source": [
    "import numpy as np\n",
    "import math\n",
    "import matplotlib.pyplot as plt\n",
    "from itertools import cycle\n",
    "from sympy import *\n",
    "import scipy\n",
    "from scipy.special import lambertw as W"
   ]
  },
  {
   "cell_type": "code",
   "execution_count": 17,
   "metadata": {},
   "outputs": [],
   "source": [
    "# Per Simulation\n",
    "X = [0.8, 1.2, 3] # Robot Travel Distances\n",
    "\n",
    "s = 5 # Minimum Gear Ratio (5)\n",
    "b = 40 # Maximum Gear Ratio (25)"
   ]
  },
  {
   "cell_type": "code",
   "execution_count": 37,
   "metadata": {},
   "outputs": [],
   "source": [
    "# Robot Constants\n",
    "rw = 0.051 # Wheel Radius (meters)\n",
    "m = 13 # Robot Mass (Kg)\n",
    "I = 0.0015 # Rotational Inertia of drive system (Kg m^2)\n",
    "E = 1 # Efficiency of wheel (Tank Drive = 1, Mecanum Drive = 0.7)\n",
    "Vo = 12.5 # Battery Voltage (volts)\n",
    "Rb = 0.15 # Battery internal resistance (ohms)\n",
    "\n",
    "# Motor Constants\n",
    "Vm = 12 # Nominal Motor Voltage\n",
    "Ts = 4.2 / 40 # Stall torque (Nm)\n",
    "wo = 15.7 * 40 # No load speed (Radians / Sec)\n",
    "Io = 0.4 # No load current (Amps)\n",
    "Is = 8.5 # Stall current (Amps)\n",
    "\n",
    "nm = 4 # Number of motors"
   ]
  },
  {
   "cell_type": "code",
   "execution_count": 38,
   "metadata": {},
   "outputs": [],
   "source": [
    "# Motor Constants\n",
    "Km = Ts / Is\n",
    "Ke = Vo / wo\n",
    "Tf = Ts * Io / Is * nm\n",
    "R = Rb + Vm / Is / nm"
   ]
  },
  {
   "cell_type": "code",
   "execution_count": 39,
   "metadata": {},
   "outputs": [],
   "source": [
    "c3 = R*(rw**2*m + I*E)\n",
    "c1 = (Vo*Km - R *Tf) / c3\n",
    "c2 = -Ke*Km*E/c3\n"
   ]
  },
  {
   "cell_type": "code",
   "execution_count": 28,
   "metadata": {},
   "outputs": [],
   "source": [
    "def loopTimeAtRatio(g, targetDist):\n",
    "    x, v, t = 0. , 0., 0.\n",
    "    dt = 0.001\n",
    "    while x < targetDist:\n",
    "        a = g*c1 - g**2*v*c2\n",
    "        v = v + a*dt\n",
    "        x = x + v*dt\n",
    "        t = t + dt\n",
    "    return t"
   ]
  },
  {
   "cell_type": "code",
   "execution_count": 29,
   "metadata": {},
   "outputs": [
    {
     "data": {
      "image/png": "[encoded data removed]",
      "text/plain": [
       "<matplotlib.figure.Figure at 0x7f426040cb70>"
      ]
     },
     "metadata": {},
     "output_type": "display_data"
    }
   ],
   "source": [
    "x_g = np.arange(s, b, 0.01)\n",
    "y_t = np.zeros(((b-s)*100))\n",
    "\n",
    "fig = plt.figure()\n",
    "ax = fig.add_subplot(111)\n",
    "\n",
    "for j, x in enumerate(X):\n",
    "    for i, g in np.ndenumerate(x_g):\n",
    "        y_t[i] = loopTimeAtRatio(g, x)\n",
    "        \n",
    "    ax.plot(x_g, y_t, label = str(X[j]) + \" m, Ratio: \" + str(round(x_g[np.argmin(y_t)], 3)))\n",
    "\n",
    "ax.set_xlabel(\"Gear Reduction\", fontsize=15)\n",
    "ax.set_ylabel(\"Time\", fontsize=18)\n",
    "\n",
    "ax.legend(loc=\"best\")\n",
    "\n",
    "ax.margins(0.1)\n",
    "fig.tight_layout()\n",
    "\n",
    "plt.show()"
   ]
  },
  {
   "cell_type": "code",
   "execution_count": 30,
   "metadata": {},
   "outputs": [
    {
     "ename": "SyntaxError",
     "evalue": "invalid syntax (<ipython-input-30-558f42149d2d>, line 6)",
     "output_type": "error",
     "traceback": [
      "\u001b[0;36m  File \u001b[0;32m\"<ipython-input-30-558f42149d2d>\"\u001b[0;36m, line \u001b[0;32m6\u001b[0m\n\u001b[0;31m    for i in range(1..3):\u001b[0m\n\u001b[0m                      ^\u001b[0m\n\u001b[0;31mSyntaxError\u001b[0m\u001b[0;31m:\u001b[0m invalid syntax\n"
     ]
    }
   ],
   "source": [
    "distance = 1.2 # Meters\n",
    "\n",
    "x_t = np.arange(1,10,1)\n",
    "y_t = np.arange( 1,5, 0.5)\n",
    "\n",
    "for i in range(1..3):\n",
    "    "
   ]
  },
  {
   "cell_type": "code",
   "execution_count": 31,
   "metadata": {},
   "outputs": [
    {
     "data": {
      "text/plain": [
       "array([1, 2, 3, 4, 5, 6, 7, 8, 9])"
      ]
     },
     "execution_count": 31,
     "metadata": {},
     "output_type": "execute_result"
    }
   ],
   "source": [
    "x_t"
   ]
  },
  {
   "cell_type": "code",
   "execution_count": 40,
   "metadata": {},
   "outputs": [
    {
     "name": "stdout",
     "output_type": "stream",
     "text": [
      "8.134478463378818\n",
      "-0.013844234113979476\n"
     ]
    }
   ],
   "source": [
    "print (c1)\n",
    "print (c2)"
   ]
  },
  {
   "cell_type": "code",
   "execution_count": 36,
   "metadata": {},
   "outputs": [
    {
     "name": "stdout",
     "output_type": "stream",
     "text": [
      "8.134478463378818\n",
      "-0.08694179023579111\n"
     ]
    }
   ],
   "source": [
    "print (c1)\n",
    "print (c2)"
   ]
  },
  {
   "cell_type": "code",
   "execution_count": null,
   "metadata": {},
   "outputs": [],
   "source": []
  }
 ],
 "metadata": {
  "kernelspec": {
   "display_name": "Python 3",
   "language": "python",
   "name": "python3"
  },
  "language_info": {
   "codemirror_mode": {
    "name": "ipython",
    "version": 3
   },
   "file_extension": ".py",
   "mimetype": "text/x-python",
   "name": "python",
   "nbconvert_exporter": "python",
   "pygments_lexer": "ipython3",
   "version": "3.6.4"
  }
 },
 "nbformat": 4,
 "nbformat_minor": 2
}
